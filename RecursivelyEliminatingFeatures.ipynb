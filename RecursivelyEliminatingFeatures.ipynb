{
 "cells": [
  {
   "cell_type": "code",
   "execution_count": 1,
   "id": "287857e9-25dc-4a8c-8637-23c9c13836e5",
   "metadata": {},
   "outputs": [],
   "source": [
    "# Load libraries\n",
    "import warnings\n",
    "from sklearn.datasets import make_regression\n",
    "from sklearn.feature_selection import RFECV\n",
    "from sklearn import datasets, linear_model"
   ]
  },
  {
   "cell_type": "code",
   "execution_count": 2,
   "id": "3eaeecfa-b9a7-4d4f-a8a8-f66b8e050955",
   "metadata": {},
   "outputs": [],
   "source": [
    "# Suppress an annoying but harmless warning\n",
    "warnings.filterwarnings(action=\"ignore\", module=\"scipy\",\n",
    "message=\"^internal gelsd\")"
   ]
  },
  {
   "cell_type": "code",
   "execution_count": 3,
   "id": "b3e48ac8-b36c-48d8-9157-890d76e983a4",
   "metadata": {},
   "outputs": [],
   "source": [
    "# Generate features matrix, target vector, and the true coefficients\n",
    "features, target = make_regression(n_samples = 10000,\n",
    "n_features = 100,\n",
    "n_informative = 2,\n",
    "random_state = 1)"
   ]
  },
  {
   "cell_type": "code",
   "execution_count": 4,
   "id": "79daf325-c21d-40fb-a5aa-417fdf9046ca",
   "metadata": {},
   "outputs": [],
   "source": [
    "# Create a linear regression\n",
    "ols = linear_model.LinearRegression()"
   ]
  },
  {
   "cell_type": "code",
   "execution_count": 5,
   "id": "e2c3eea5-3ccd-40ac-8161-b5c85df551ae",
   "metadata": {},
   "outputs": [
    {
     "data": {
      "text/plain": [
       "array([[ 0.00850799,  0.7031277 ,  1.15422032, ..., -0.94579905,\n",
       "        -1.13210747,  0.39544554],\n",
       "       [-1.07500204,  2.56148527,  1.44423524, ..., -0.55990689,\n",
       "         0.46847025, -0.66998145],\n",
       "       [ 1.37940721, -1.77039484,  2.17806632, ...,  0.85638636,\n",
       "         0.98059736, -0.17881197],\n",
       "       ...,\n",
       "       [-0.80331656, -1.60648007,  0.06790262, ..., -0.69079768,\n",
       "        -0.40526417,  0.01579457],\n",
       "       [ 0.39508844, -1.34564911, -0.05938279, ...,  0.1762367 ,\n",
       "        -0.66344459, -1.21773707],\n",
       "       [-0.55383035,  0.82880112, -0.75794736, ..., -0.58948827,\n",
       "        -1.24820021,  0.79632039]])"
      ]
     },
     "execution_count": 5,
     "metadata": {},
     "output_type": "execute_result"
    }
   ],
   "source": [
    "# Recursively eliminate features\n",
    "rfecv = RFECV(estimator=ols, step=1, scoring=\"neg_mean_squared_error\")\n",
    "rfecv.fit(features, target)\n",
    "rfecv.transform(features)"
   ]
  },
  {
   "cell_type": "code",
   "execution_count": 6,
   "id": "759949e4-7c64-49c1-893a-2cfcb7c275b3",
   "metadata": {},
   "outputs": [
    {
     "data": {
      "text/plain": [
       "array([False, False, False, False, False,  True, False, False, False,\n",
       "       False, False, False, False, False, False, False, False, False,\n",
       "       False, False, False, False, False, False, False, False, False,\n",
       "       False, False, False, False, False, False, False, False, False,\n",
       "       False, False, False,  True, False, False, False, False, False,\n",
       "       False, False, False, False, False, False, False, False, False,\n",
       "       False, False, False, False, False, False, False, False, False,\n",
       "       False, False,  True, False, False, False, False, False, False,\n",
       "        True, False, False, False, False, False, False,  True, False,\n",
       "       False, False, False, False,  True, False, False, False, False,\n",
       "       False, False,  True, False, False, False, False, False, False,\n",
       "       False])"
      ]
     },
     "execution_count": 6,
     "metadata": {},
     "output_type": "execute_result"
    }
   ],
   "source": [
    "# Which categories are best\n",
    "rfecv.support_"
   ]
  },
  {
   "cell_type": "code",
   "execution_count": 7,
   "id": "d62cc725-c051-460e-830f-f4fcbe920856",
   "metadata": {},
   "outputs": [
    {
     "data": {
      "text/plain": [
       "array([22, 70, 92, 25, 28,  1, 11, 90, 84, 91, 37, 82,  2, 59, 93, 57, 88,\n",
       "       64, 20, 77, 58, 50, 60, 81, 21, 69, 10, 36, 63, 71, 62, 67, 32, 29,\n",
       "       14, 87, 83, 30, 38,  1, 55, 23, 12, 65, 31, 53, 94, 74, 89, 54, 61,\n",
       "       24, 52, 15, 43,  5, 44,  9, 45, 68,  4, 85, 27, 47, 51,  1, 79, 41,\n",
       "        8, 80, 42, 34,  1, 17, 76, 78, 49, 33,  7,  1, 48, 66,  6, 26, 75,\n",
       "        1, 73, 19, 18, 13, 86, 46,  1,  3, 40, 56, 35, 16, 72, 39])"
      ]
     },
     "execution_count": 7,
     "metadata": {},
     "output_type": "execute_result"
    }
   ],
   "source": [
    "# Rank features best (1) to worst\n",
    "rfecv.ranking_"
   ]
  },
  {
   "cell_type": "code",
   "execution_count": null,
   "id": "ef43625e-c1b3-47a6-a4e6-1af202e3ed45",
   "metadata": {},
   "outputs": [],
   "source": []
  }
 ],
 "metadata": {
  "kernelspec": {
   "display_name": "Python 3 (ipykernel)",
   "language": "python",
   "name": "python3"
  },
  "language_info": {
   "codemirror_mode": {
    "name": "ipython",
    "version": 3
   },
   "file_extension": ".py",
   "mimetype": "text/x-python",
   "name": "python",
   "nbconvert_exporter": "python",
   "pygments_lexer": "ipython3",
   "version": "3.12.3"
  }
 },
 "nbformat": 4,
 "nbformat_minor": 5
}
